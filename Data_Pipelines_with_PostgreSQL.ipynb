{
  "nbformat": 4,
  "nbformat_minor": 0,
  "metadata": {
    "colab": {
      "provenance": [],
      "toc_visible": true
    },
    "kernelspec": {
      "name": "python3",
      "display_name": "Python 3"
    }
  },
  "cells": [
    {
      "cell_type": "markdown",
      "metadata": {
        "id": "AzLPOliHYP0V"
      },
      "source": [
        "# Data Pipelines with PostgreSQL"
      ]
    },
    {
      "cell_type": "markdown",
      "source": [
        "I am developing a data pipeline that can efficiently collect, clean, and analyze equipment and network sensor data. The pipeline will aid to identify potential\n",
        "equipment failures and schedule maintenance proactively, minimizing downtime and improving overall equipment performance."
      ],
      "metadata": {
        "id": "hm7nnF7-mL_0"
      }
    },
    {
      "cell_type": "markdown",
      "metadata": {
        "id": "p5-vSSK2YRvv"
      },
      "source": [
        "## Pre-requisites"
      ]
    },
    {
      "cell_type": "code",
      "metadata": {
        "id": "7KgwSnDfYDoq"
      },
      "source": [
        "# Pre-requisite 1\n",
        "# ---\n",
        "# Importing pandas library for data manipulation\n",
        "import pandas as pd\n",
        "# Importing numpy library for scientific computations\n",
        "import numpy as np\n",
        "import psycopg2\n",
        "from sqlalchemy import create_engine"
      ],
      "execution_count": 41,
      "outputs": []
    },
    {
      "cell_type": "markdown",
      "metadata": {
        "id": "AKFUFX9oYYlz"
      },
      "source": [
        "## 1. Data Exploration"
      ]
    },
    {
      "cell_type": "markdown",
      "metadata": {
        "id": "8qPMH6tKZQCL"
      },
      "source": [
        "### Load and Review the datasets"
      ]
    },
    {
      "cell_type": "code",
      "metadata": {
        "id": "mO6NfKbVYrCd",
        "colab": {
          "base_uri": "https://localhost:8080/",
          "height": 206
        },
        "outputId": "55ffe8c4-2f34-46b7-a8ba-13556d45ba77"
      },
      "source": [
        "# Dataset url = https://bit.ly/3YNdO2Y\n",
        "# Equipment sensor dataset\n",
        "equipment_df = pd.read_csv('https://raw.githubusercontent.com/wambasisamuel/DE_Week07_Tuesday/main/equipment_sensor.csv')\n",
        "equipment_df.head(5)"
      ],
      "execution_count": 42,
      "outputs": [
        {
          "output_type": "execute_result",
          "data": {
            "text/plain": [
              "   ID        date      time  sensor_reading\n",
              "0   1  2022-03-01  08:00:00            26.7\n",
              "1   1  2022-03-01  08:15:00            28.4\n",
              "2   1  2022-03-01  08:30:00            27.8\n",
              "3   2  2022-03-01  08:00:00            99.1\n",
              "4   2  2022-03-01  08:15:00            97.5"
            ],
            "text/html": [
              "\n",
              "  <div id=\"df-f9096ca6-6c2f-4b41-b826-eb55af6ab22a\">\n",
              "    <div class=\"colab-df-container\">\n",
              "      <div>\n",
              "<style scoped>\n",
              "    .dataframe tbody tr th:only-of-type {\n",
              "        vertical-align: middle;\n",
              "    }\n",
              "\n",
              "    .dataframe tbody tr th {\n",
              "        vertical-align: top;\n",
              "    }\n",
              "\n",
              "    .dataframe thead th {\n",
              "        text-align: right;\n",
              "    }\n",
              "</style>\n",
              "<table border=\"1\" class=\"dataframe\">\n",
              "  <thead>\n",
              "    <tr style=\"text-align: right;\">\n",
              "      <th></th>\n",
              "      <th>ID</th>\n",
              "      <th>date</th>\n",
              "      <th>time</th>\n",
              "      <th>sensor_reading</th>\n",
              "    </tr>\n",
              "  </thead>\n",
              "  <tbody>\n",
              "    <tr>\n",
              "      <th>0</th>\n",
              "      <td>1</td>\n",
              "      <td>2022-03-01</td>\n",
              "      <td>08:00:00</td>\n",
              "      <td>26.7</td>\n",
              "    </tr>\n",
              "    <tr>\n",
              "      <th>1</th>\n",
              "      <td>1</td>\n",
              "      <td>2022-03-01</td>\n",
              "      <td>08:15:00</td>\n",
              "      <td>28.4</td>\n",
              "    </tr>\n",
              "    <tr>\n",
              "      <th>2</th>\n",
              "      <td>1</td>\n",
              "      <td>2022-03-01</td>\n",
              "      <td>08:30:00</td>\n",
              "      <td>27.8</td>\n",
              "    </tr>\n",
              "    <tr>\n",
              "      <th>3</th>\n",
              "      <td>2</td>\n",
              "      <td>2022-03-01</td>\n",
              "      <td>08:00:00</td>\n",
              "      <td>99.1</td>\n",
              "    </tr>\n",
              "    <tr>\n",
              "      <th>4</th>\n",
              "      <td>2</td>\n",
              "      <td>2022-03-01</td>\n",
              "      <td>08:15:00</td>\n",
              "      <td>97.5</td>\n",
              "    </tr>\n",
              "  </tbody>\n",
              "</table>\n",
              "</div>\n",
              "      <button class=\"colab-df-convert\" onclick=\"convertToInteractive('df-f9096ca6-6c2f-4b41-b826-eb55af6ab22a')\"\n",
              "              title=\"Convert this dataframe to an interactive table.\"\n",
              "              style=\"display:none;\">\n",
              "        \n",
              "  <svg xmlns=\"http://www.w3.org/2000/svg\" height=\"24px\"viewBox=\"0 0 24 24\"\n",
              "       width=\"24px\">\n",
              "    <path d=\"M0 0h24v24H0V0z\" fill=\"none\"/>\n",
              "    <path d=\"M18.56 5.44l.94 2.06.94-2.06 2.06-.94-2.06-.94-.94-2.06-.94 2.06-2.06.94zm-11 1L8.5 8.5l.94-2.06 2.06-.94-2.06-.94L8.5 2.5l-.94 2.06-2.06.94zm10 10l.94 2.06.94-2.06 2.06-.94-2.06-.94-.94-2.06-.94 2.06-2.06.94z\"/><path d=\"M17.41 7.96l-1.37-1.37c-.4-.4-.92-.59-1.43-.59-.52 0-1.04.2-1.43.59L10.3 9.45l-7.72 7.72c-.78.78-.78 2.05 0 2.83L4 21.41c.39.39.9.59 1.41.59.51 0 1.02-.2 1.41-.59l7.78-7.78 2.81-2.81c.8-.78.8-2.07 0-2.86zM5.41 20L4 18.59l7.72-7.72 1.47 1.35L5.41 20z\"/>\n",
              "  </svg>\n",
              "      </button>\n",
              "      \n",
              "  <style>\n",
              "    .colab-df-container {\n",
              "      display:flex;\n",
              "      flex-wrap:wrap;\n",
              "      gap: 12px;\n",
              "    }\n",
              "\n",
              "    .colab-df-convert {\n",
              "      background-color: #E8F0FE;\n",
              "      border: none;\n",
              "      border-radius: 50%;\n",
              "      cursor: pointer;\n",
              "      display: none;\n",
              "      fill: #1967D2;\n",
              "      height: 32px;\n",
              "      padding: 0 0 0 0;\n",
              "      width: 32px;\n",
              "    }\n",
              "\n",
              "    .colab-df-convert:hover {\n",
              "      background-color: #E2EBFA;\n",
              "      box-shadow: 0px 1px 2px rgba(60, 64, 67, 0.3), 0px 1px 3px 1px rgba(60, 64, 67, 0.15);\n",
              "      fill: #174EA6;\n",
              "    }\n",
              "\n",
              "    [theme=dark] .colab-df-convert {\n",
              "      background-color: #3B4455;\n",
              "      fill: #D2E3FC;\n",
              "    }\n",
              "\n",
              "    [theme=dark] .colab-df-convert:hover {\n",
              "      background-color: #434B5C;\n",
              "      box-shadow: 0px 1px 3px 1px rgba(0, 0, 0, 0.15);\n",
              "      filter: drop-shadow(0px 1px 2px rgba(0, 0, 0, 0.3));\n",
              "      fill: #FFFFFF;\n",
              "    }\n",
              "  </style>\n",
              "\n",
              "      <script>\n",
              "        const buttonEl =\n",
              "          document.querySelector('#df-f9096ca6-6c2f-4b41-b826-eb55af6ab22a button.colab-df-convert');\n",
              "        buttonEl.style.display =\n",
              "          google.colab.kernel.accessAllowed ? 'block' : 'none';\n",
              "\n",
              "        async function convertToInteractive(key) {\n",
              "          const element = document.querySelector('#df-f9096ca6-6c2f-4b41-b826-eb55af6ab22a');\n",
              "          const dataTable =\n",
              "            await google.colab.kernel.invokeFunction('convertToInteractive',\n",
              "                                                     [key], {});\n",
              "          if (!dataTable) return;\n",
              "\n",
              "          const docLinkHtml = 'Like what you see? Visit the ' +\n",
              "            '<a target=\"_blank\" href=https://colab.research.google.com/notebooks/data_table.ipynb>data table notebook</a>'\n",
              "            + ' to learn more about interactive tables.';\n",
              "          element.innerHTML = '';\n",
              "          dataTable['output_type'] = 'display_data';\n",
              "          await google.colab.output.renderOutput(dataTable, element);\n",
              "          const docLink = document.createElement('div');\n",
              "          docLink.innerHTML = docLinkHtml;\n",
              "          element.appendChild(docLink);\n",
              "        }\n",
              "      </script>\n",
              "    </div>\n",
              "  </div>\n",
              "  "
            ]
          },
          "metadata": {},
          "execution_count": 42
        }
      ]
    },
    {
      "cell_type": "code",
      "metadata": {
        "id": "_-q9fhfTZRhK",
        "colab": {
          "base_uri": "https://localhost:8080/",
          "height": 206
        },
        "outputId": "cdb743f6-6daf-4e32-d849-62ed794a027a"
      },
      "source": [
        "# Network sensor dataset\n",
        "network_df = pd.read_csv('https://raw.githubusercontent.com/wambasisamuel/DE_Week07_Tuesday/main/network_sensor.csv')\n",
        "network_df.head(5)"
      ],
      "execution_count": 43,
      "outputs": [
        {
          "output_type": "execute_result",
          "data": {
            "text/plain": [
              "   ID        date      time  sensor_reading\n",
              "0   1  2022-03-01  08:00:00            0.58\n",
              "1   1  2022-03-01  08:15:00            0.62\n",
              "2   1  2022-03-01  08:30:00            0.60\n",
              "3   2  2022-03-01  08:00:00            0.89\n",
              "4   2  2022-03-01  08:15:00            0.85"
            ],
            "text/html": [
              "\n",
              "  <div id=\"df-65903a13-2858-40dc-8d6a-b219acc4ec43\">\n",
              "    <div class=\"colab-df-container\">\n",
              "      <div>\n",
              "<style scoped>\n",
              "    .dataframe tbody tr th:only-of-type {\n",
              "        vertical-align: middle;\n",
              "    }\n",
              "\n",
              "    .dataframe tbody tr th {\n",
              "        vertical-align: top;\n",
              "    }\n",
              "\n",
              "    .dataframe thead th {\n",
              "        text-align: right;\n",
              "    }\n",
              "</style>\n",
              "<table border=\"1\" class=\"dataframe\">\n",
              "  <thead>\n",
              "    <tr style=\"text-align: right;\">\n",
              "      <th></th>\n",
              "      <th>ID</th>\n",
              "      <th>date</th>\n",
              "      <th>time</th>\n",
              "      <th>sensor_reading</th>\n",
              "    </tr>\n",
              "  </thead>\n",
              "  <tbody>\n",
              "    <tr>\n",
              "      <th>0</th>\n",
              "      <td>1</td>\n",
              "      <td>2022-03-01</td>\n",
              "      <td>08:00:00</td>\n",
              "      <td>0.58</td>\n",
              "    </tr>\n",
              "    <tr>\n",
              "      <th>1</th>\n",
              "      <td>1</td>\n",
              "      <td>2022-03-01</td>\n",
              "      <td>08:15:00</td>\n",
              "      <td>0.62</td>\n",
              "    </tr>\n",
              "    <tr>\n",
              "      <th>2</th>\n",
              "      <td>1</td>\n",
              "      <td>2022-03-01</td>\n",
              "      <td>08:30:00</td>\n",
              "      <td>0.60</td>\n",
              "    </tr>\n",
              "    <tr>\n",
              "      <th>3</th>\n",
              "      <td>2</td>\n",
              "      <td>2022-03-01</td>\n",
              "      <td>08:00:00</td>\n",
              "      <td>0.89</td>\n",
              "    </tr>\n",
              "    <tr>\n",
              "      <th>4</th>\n",
              "      <td>2</td>\n",
              "      <td>2022-03-01</td>\n",
              "      <td>08:15:00</td>\n",
              "      <td>0.85</td>\n",
              "    </tr>\n",
              "  </tbody>\n",
              "</table>\n",
              "</div>\n",
              "      <button class=\"colab-df-convert\" onclick=\"convertToInteractive('df-65903a13-2858-40dc-8d6a-b219acc4ec43')\"\n",
              "              title=\"Convert this dataframe to an interactive table.\"\n",
              "              style=\"display:none;\">\n",
              "        \n",
              "  <svg xmlns=\"http://www.w3.org/2000/svg\" height=\"24px\"viewBox=\"0 0 24 24\"\n",
              "       width=\"24px\">\n",
              "    <path d=\"M0 0h24v24H0V0z\" fill=\"none\"/>\n",
              "    <path d=\"M18.56 5.44l.94 2.06.94-2.06 2.06-.94-2.06-.94-.94-2.06-.94 2.06-2.06.94zm-11 1L8.5 8.5l.94-2.06 2.06-.94-2.06-.94L8.5 2.5l-.94 2.06-2.06.94zm10 10l.94 2.06.94-2.06 2.06-.94-2.06-.94-.94-2.06-.94 2.06-2.06.94z\"/><path d=\"M17.41 7.96l-1.37-1.37c-.4-.4-.92-.59-1.43-.59-.52 0-1.04.2-1.43.59L10.3 9.45l-7.72 7.72c-.78.78-.78 2.05 0 2.83L4 21.41c.39.39.9.59 1.41.59.51 0 1.02-.2 1.41-.59l7.78-7.78 2.81-2.81c.8-.78.8-2.07 0-2.86zM5.41 20L4 18.59l7.72-7.72 1.47 1.35L5.41 20z\"/>\n",
              "  </svg>\n",
              "      </button>\n",
              "      \n",
              "  <style>\n",
              "    .colab-df-container {\n",
              "      display:flex;\n",
              "      flex-wrap:wrap;\n",
              "      gap: 12px;\n",
              "    }\n",
              "\n",
              "    .colab-df-convert {\n",
              "      background-color: #E8F0FE;\n",
              "      border: none;\n",
              "      border-radius: 50%;\n",
              "      cursor: pointer;\n",
              "      display: none;\n",
              "      fill: #1967D2;\n",
              "      height: 32px;\n",
              "      padding: 0 0 0 0;\n",
              "      width: 32px;\n",
              "    }\n",
              "\n",
              "    .colab-df-convert:hover {\n",
              "      background-color: #E2EBFA;\n",
              "      box-shadow: 0px 1px 2px rgba(60, 64, 67, 0.3), 0px 1px 3px 1px rgba(60, 64, 67, 0.15);\n",
              "      fill: #174EA6;\n",
              "    }\n",
              "\n",
              "    [theme=dark] .colab-df-convert {\n",
              "      background-color: #3B4455;\n",
              "      fill: #D2E3FC;\n",
              "    }\n",
              "\n",
              "    [theme=dark] .colab-df-convert:hover {\n",
              "      background-color: #434B5C;\n",
              "      box-shadow: 0px 1px 3px 1px rgba(0, 0, 0, 0.15);\n",
              "      filter: drop-shadow(0px 1px 2px rgba(0, 0, 0, 0.3));\n",
              "      fill: #FFFFFF;\n",
              "    }\n",
              "  </style>\n",
              "\n",
              "      <script>\n",
              "        const buttonEl =\n",
              "          document.querySelector('#df-65903a13-2858-40dc-8d6a-b219acc4ec43 button.colab-df-convert');\n",
              "        buttonEl.style.display =\n",
              "          google.colab.kernel.accessAllowed ? 'block' : 'none';\n",
              "\n",
              "        async function convertToInteractive(key) {\n",
              "          const element = document.querySelector('#df-65903a13-2858-40dc-8d6a-b219acc4ec43');\n",
              "          const dataTable =\n",
              "            await google.colab.kernel.invokeFunction('convertToInteractive',\n",
              "                                                     [key], {});\n",
              "          if (!dataTable) return;\n",
              "\n",
              "          const docLinkHtml = 'Like what you see? Visit the ' +\n",
              "            '<a target=\"_blank\" href=https://colab.research.google.com/notebooks/data_table.ipynb>data table notebook</a>'\n",
              "            + ' to learn more about interactive tables.';\n",
              "          element.innerHTML = '';\n",
              "          dataTable['output_type'] = 'display_data';\n",
              "          await google.colab.output.renderOutput(dataTable, element);\n",
              "          const docLink = document.createElement('div');\n",
              "          docLink.innerHTML = docLinkHtml;\n",
              "          element.appendChild(docLink);\n",
              "        }\n",
              "      </script>\n",
              "    </div>\n",
              "  </div>\n",
              "  "
            ]
          },
          "metadata": {},
          "execution_count": 43
        }
      ]
    },
    {
      "cell_type": "code",
      "metadata": {
        "id": "sJVRps4pZRXm",
        "colab": {
          "base_uri": "https://localhost:8080/",
          "height": 143
        },
        "outputId": "138aa7e0-46d9-42a2-89c8-6f6846f2efc9"
      },
      "source": [
        "# Maintenance records dataset\n",
        "maintenance_df = pd.read_csv('https://raw.githubusercontent.com/wambasisamuel/DE_Week07_Tuesday/main/maintenance_records.csv')\n",
        "maintenance_df.head(5)"
      ],
      "execution_count": 44,
      "outputs": [
        {
          "output_type": "execute_result",
          "data": {
            "text/plain": [
              "   ID        date      time  equipment_ID        maintenance_type\n",
              "0   1  2022-03-01  10:00:00             1  Preventive Maintenance\n",
              "1   2  2022-03-02  14:30:00             2  Corrective Maintenance\n",
              "2   3  2022-03-03  08:00:00             1  Corrective Maintenance"
            ],
            "text/html": [
              "\n",
              "  <div id=\"df-e5581f18-f93c-46d8-9754-8fe74e42882f\">\n",
              "    <div class=\"colab-df-container\">\n",
              "      <div>\n",
              "<style scoped>\n",
              "    .dataframe tbody tr th:only-of-type {\n",
              "        vertical-align: middle;\n",
              "    }\n",
              "\n",
              "    .dataframe tbody tr th {\n",
              "        vertical-align: top;\n",
              "    }\n",
              "\n",
              "    .dataframe thead th {\n",
              "        text-align: right;\n",
              "    }\n",
              "</style>\n",
              "<table border=\"1\" class=\"dataframe\">\n",
              "  <thead>\n",
              "    <tr style=\"text-align: right;\">\n",
              "      <th></th>\n",
              "      <th>ID</th>\n",
              "      <th>date</th>\n",
              "      <th>time</th>\n",
              "      <th>equipment_ID</th>\n",
              "      <th>maintenance_type</th>\n",
              "    </tr>\n",
              "  </thead>\n",
              "  <tbody>\n",
              "    <tr>\n",
              "      <th>0</th>\n",
              "      <td>1</td>\n",
              "      <td>2022-03-01</td>\n",
              "      <td>10:00:00</td>\n",
              "      <td>1</td>\n",
              "      <td>Preventive Maintenance</td>\n",
              "    </tr>\n",
              "    <tr>\n",
              "      <th>1</th>\n",
              "      <td>2</td>\n",
              "      <td>2022-03-02</td>\n",
              "      <td>14:30:00</td>\n",
              "      <td>2</td>\n",
              "      <td>Corrective Maintenance</td>\n",
              "    </tr>\n",
              "    <tr>\n",
              "      <th>2</th>\n",
              "      <td>3</td>\n",
              "      <td>2022-03-03</td>\n",
              "      <td>08:00:00</td>\n",
              "      <td>1</td>\n",
              "      <td>Corrective Maintenance</td>\n",
              "    </tr>\n",
              "  </tbody>\n",
              "</table>\n",
              "</div>\n",
              "      <button class=\"colab-df-convert\" onclick=\"convertToInteractive('df-e5581f18-f93c-46d8-9754-8fe74e42882f')\"\n",
              "              title=\"Convert this dataframe to an interactive table.\"\n",
              "              style=\"display:none;\">\n",
              "        \n",
              "  <svg xmlns=\"http://www.w3.org/2000/svg\" height=\"24px\"viewBox=\"0 0 24 24\"\n",
              "       width=\"24px\">\n",
              "    <path d=\"M0 0h24v24H0V0z\" fill=\"none\"/>\n",
              "    <path d=\"M18.56 5.44l.94 2.06.94-2.06 2.06-.94-2.06-.94-.94-2.06-.94 2.06-2.06.94zm-11 1L8.5 8.5l.94-2.06 2.06-.94-2.06-.94L8.5 2.5l-.94 2.06-2.06.94zm10 10l.94 2.06.94-2.06 2.06-.94-2.06-.94-.94-2.06-.94 2.06-2.06.94z\"/><path d=\"M17.41 7.96l-1.37-1.37c-.4-.4-.92-.59-1.43-.59-.52 0-1.04.2-1.43.59L10.3 9.45l-7.72 7.72c-.78.78-.78 2.05 0 2.83L4 21.41c.39.39.9.59 1.41.59.51 0 1.02-.2 1.41-.59l7.78-7.78 2.81-2.81c.8-.78.8-2.07 0-2.86zM5.41 20L4 18.59l7.72-7.72 1.47 1.35L5.41 20z\"/>\n",
              "  </svg>\n",
              "      </button>\n",
              "      \n",
              "  <style>\n",
              "    .colab-df-container {\n",
              "      display:flex;\n",
              "      flex-wrap:wrap;\n",
              "      gap: 12px;\n",
              "    }\n",
              "\n",
              "    .colab-df-convert {\n",
              "      background-color: #E8F0FE;\n",
              "      border: none;\n",
              "      border-radius: 50%;\n",
              "      cursor: pointer;\n",
              "      display: none;\n",
              "      fill: #1967D2;\n",
              "      height: 32px;\n",
              "      padding: 0 0 0 0;\n",
              "      width: 32px;\n",
              "    }\n",
              "\n",
              "    .colab-df-convert:hover {\n",
              "      background-color: #E2EBFA;\n",
              "      box-shadow: 0px 1px 2px rgba(60, 64, 67, 0.3), 0px 1px 3px 1px rgba(60, 64, 67, 0.15);\n",
              "      fill: #174EA6;\n",
              "    }\n",
              "\n",
              "    [theme=dark] .colab-df-convert {\n",
              "      background-color: #3B4455;\n",
              "      fill: #D2E3FC;\n",
              "    }\n",
              "\n",
              "    [theme=dark] .colab-df-convert:hover {\n",
              "      background-color: #434B5C;\n",
              "      box-shadow: 0px 1px 3px 1px rgba(0, 0, 0, 0.15);\n",
              "      filter: drop-shadow(0px 1px 2px rgba(0, 0, 0, 0.3));\n",
              "      fill: #FFFFFF;\n",
              "    }\n",
              "  </style>\n",
              "\n",
              "      <script>\n",
              "        const buttonEl =\n",
              "          document.querySelector('#df-e5581f18-f93c-46d8-9754-8fe74e42882f button.colab-df-convert');\n",
              "        buttonEl.style.display =\n",
              "          google.colab.kernel.accessAllowed ? 'block' : 'none';\n",
              "\n",
              "        async function convertToInteractive(key) {\n",
              "          const element = document.querySelector('#df-e5581f18-f93c-46d8-9754-8fe74e42882f');\n",
              "          const dataTable =\n",
              "            await google.colab.kernel.invokeFunction('convertToInteractive',\n",
              "                                                     [key], {});\n",
              "          if (!dataTable) return;\n",
              "\n",
              "          const docLinkHtml = 'Like what you see? Visit the ' +\n",
              "            '<a target=\"_blank\" href=https://colab.research.google.com/notebooks/data_table.ipynb>data table notebook</a>'\n",
              "            + ' to learn more about interactive tables.';\n",
              "          element.innerHTML = '';\n",
              "          dataTable['output_type'] = 'display_data';\n",
              "          await google.colab.output.renderOutput(dataTable, element);\n",
              "          const docLink = document.createElement('div');\n",
              "          docLink.innerHTML = docLinkHtml;\n",
              "          element.appendChild(docLink);\n",
              "        }\n",
              "      </script>\n",
              "    </div>\n",
              "  </div>\n",
              "  "
            ]
          },
          "metadata": {},
          "execution_count": 44
        }
      ]
    },
    {
      "cell_type": "markdown",
      "metadata": {
        "id": "vjKU2wFjYseF"
      },
      "source": [
        "## 2. Data Preparation"
      ]
    },
    {
      "cell_type": "markdown",
      "source": [
        "### Convert column names to lower"
      ],
      "metadata": {
        "id": "kfB7Keab2-et"
      }
    },
    {
      "cell_type": "code",
      "source": [
        "def colnames_lower(df):\n",
        "  df.columns = map(str.lower, df.columns)\n",
        "\n",
        "df_list = [equipment_df, network_df, maintenance_df]\n",
        "\n",
        "for df in df_list:\n",
        "  colnames_lower(df)"
      ],
      "metadata": {
        "id": "Cph_ttzZ3BeR"
      },
      "execution_count": 45,
      "outputs": []
    },
    {
      "cell_type": "markdown",
      "metadata": {
        "id": "mcBYkd2dZeRm"
      },
      "source": [
        "### Get column data types"
      ]
    },
    {
      "cell_type": "code",
      "metadata": {
        "id": "k-tJw2xQZeRo",
        "colab": {
          "base_uri": "https://localhost:8080/"
        },
        "outputId": "99ef3017-05ff-4280-f4b7-5021bf76d514"
      },
      "source": [
        "# Function that prints the data types of columns for a given dataframe\n",
        "def get_datatypes(df):\n",
        "  df_name =[x for x in globals() if globals()[x] is df][0]\n",
        "  print(\"\\n\" + df_name)\n",
        "  print(\"=================\")\n",
        "  print(df.dtypes)\n",
        "\n",
        "df_list = [equipment_df, network_df, maintenance_df]\n",
        "\n",
        "for df in df_list:\n",
        "  get_datatypes(df)"
      ],
      "execution_count": 46,
      "outputs": [
        {
          "output_type": "stream",
          "name": "stdout",
          "text": [
            "\n",
            "equipment_df\n",
            "=================\n",
            "id                  int64\n",
            "date               object\n",
            "time               object\n",
            "sensor_reading    float64\n",
            "dtype: object\n",
            "\n",
            "network_df\n",
            "=================\n",
            "id                  int64\n",
            "date               object\n",
            "time               object\n",
            "sensor_reading    float64\n",
            "dtype: object\n",
            "\n",
            "maintenance_df\n",
            "=================\n",
            "id                   int64\n",
            "date                object\n",
            "time                object\n",
            "equipment_id         int64\n",
            "maintenance_type    object\n",
            "dtype: object\n"
          ]
        }
      ]
    },
    {
      "cell_type": "markdown",
      "source": [
        "### Missing Values"
      ],
      "metadata": {
        "id": "JD9BtEuVInaI"
      }
    },
    {
      "cell_type": "code",
      "metadata": {
        "id": "DDrUE3y8ZeRt",
        "colab": {
          "base_uri": "https://localhost:8080/"
        },
        "outputId": "453a56a9-18d7-4b6d-e359-6d4746698caa"
      },
      "source": [
        "# Function that prints the sum of missing values per columns for a given dataframe\n",
        "def get_nulls(df):\n",
        "  df_name =[x for x in globals() if globals()[x] is df][0]\n",
        "  print(\"\\n\" + df_name)\n",
        "  print(\"=================\\n\")\n",
        "  print(df.isna().sum())\n",
        "\n",
        "for df in df_list:\n",
        "  get_nulls(df)"
      ],
      "execution_count": 47,
      "outputs": [
        {
          "output_type": "stream",
          "name": "stdout",
          "text": [
            "\n",
            "equipment_df\n",
            "=================\n",
            "\n",
            "id                0\n",
            "date              0\n",
            "time              0\n",
            "sensor_reading    0\n",
            "dtype: int64\n",
            "\n",
            "network_df\n",
            "=================\n",
            "\n",
            "id                0\n",
            "date              0\n",
            "time              0\n",
            "sensor_reading    0\n",
            "dtype: int64\n",
            "\n",
            "maintenance_df\n",
            "=================\n",
            "\n",
            "id                  0\n",
            "date                0\n",
            "time                0\n",
            "equipment_id        0\n",
            "maintenance_type    0\n",
            "dtype: int64\n"
          ]
        }
      ]
    },
    {
      "cell_type": "markdown",
      "source": [
        "### Duplicate data"
      ],
      "metadata": {
        "id": "E4rHxTw9IsA5"
      }
    },
    {
      "cell_type": "code",
      "metadata": {
        "id": "PAYdeC6trVEr",
        "colab": {
          "base_uri": "https://localhost:8080/"
        },
        "outputId": "bf2d555e-18e1-451d-b8bf-e994097c7bfa"
      },
      "source": [
        "# Function that prints number of duplicate records\n",
        "def get_duplicates(df):\n",
        "  df_name =[x for x in globals() if globals()[x] is df][0]\n",
        "  print(\"\\n\" + df_name)\n",
        "  print(\"=================\\n\")\n",
        "  print(sum(df.duplicated()))\n",
        "\n",
        "for df in df_list:\n",
        "  get_duplicates(df)"
      ],
      "execution_count": 48,
      "outputs": [
        {
          "output_type": "stream",
          "name": "stdout",
          "text": [
            "\n",
            "equipment_df\n",
            "=================\n",
            "\n",
            "0\n",
            "\n",
            "network_df\n",
            "=================\n",
            "\n",
            "0\n",
            "\n",
            "maintenance_df\n",
            "=================\n",
            "\n",
            "0\n"
          ]
        }
      ]
    },
    {
      "cell_type": "markdown",
      "source": [
        "There are missing values for the Promo_code"
      ],
      "metadata": {
        "id": "VchE3bbfL1dL"
      }
    },
    {
      "cell_type": "markdown",
      "metadata": {
        "id": "InG0BnDgYxUo"
      },
      "source": [
        "## 3. Data Transformation "
      ]
    },
    {
      "cell_type": "markdown",
      "source": [
        "### Combine the date and time columns"
      ],
      "metadata": {
        "id": "NiGLsDn4LuIp"
      }
    },
    {
      "cell_type": "code",
      "source": [
        "equipment_df['sensor_date_time'] = pd.to_datetime(equipment_df['date'] + ' ' + equipment_df['time']).dt.strftime('%Y-%m-%d %H:%M:%S')\n",
        "network_df['sensor_date_time'] = pd.to_datetime(network_df['date'] + ' ' + network_df['time']).dt.strftime('%Y-%m-%d %H:%M:%S')\n",
        "maintenance_df['maintenance_date_time'] = pd.to_datetime(maintenance_df['date'] + ' ' + maintenance_df['time']).dt.strftime('%Y-%m-%d %H:%M:%S')"
      ],
      "metadata": {
        "id": "BDuQGfy6Lw2c"
      },
      "execution_count": 49,
      "outputs": []
    },
    {
      "cell_type": "markdown",
      "source": [
        "### Drop date and time columns"
      ],
      "metadata": {
        "id": "nUDpA80VS2HS"
      }
    },
    {
      "cell_type": "code",
      "source": [
        "equipment_df.drop(['date','time'], axis=1, inplace=True)\n",
        "network_df.drop(['date','time'], axis=1, inplace=True)\n",
        "maintenance_df.drop(['date','time'], axis=1, inplace=True)"
      ],
      "metadata": {
        "id": "vdFBXzbOS52w"
      },
      "execution_count": 50,
      "outputs": []
    },
    {
      "cell_type": "markdown",
      "source": [
        "### Date and Time Formatting"
      ],
      "metadata": {
        "id": "eW-ewISjUyUu"
      }
    },
    {
      "cell_type": "code",
      "source": [
        "# Convert the date/time columns\n",
        "# equipment_df['date'] = pd.to_datetime(equipment_df['date']).dt.strftime('%Y-%m-%d')\n",
        "# equipment_df['time'] = pd.to_datetime(equipment_df['time']).dt.strftime('%H:%M:%S')\n",
        "# network_df['date'] = pd.to_datetime(network_df['date']).dt.strftime('%Y-%m-%d')\n",
        "# network_df['time'] = pd.to_datetime(network_df['time']).dt.strftime('%H:%M:%S')\n",
        "# maintenance_df['date'] = pd.to_datetime(maintenance_df['date']).dt.strftime('%Y-%m-%d')\n",
        "# maintenance_df['time'] = pd.to_datetime(maintenance_df['time']).dt.strftime('%H:%M:%S')"
      ],
      "metadata": {
        "id": "QZCHH2OlO4nc"
      },
      "execution_count": 51,
      "outputs": []
    },
    {
      "cell_type": "markdown",
      "source": [
        "### Rename column names"
      ],
      "metadata": {
        "id": "-AreurB01Gg3"
      }
    },
    {
      "cell_type": "code",
      "source": [
        "equipment_df=equipment_df.rename(columns={'sensor_reading':'equipment_sensor_reading'})\n",
        "network_df=network_df.rename(columns={'sensor_reading':'network_sensor_reading'})\n",
        "# maintenance_df=maintenance_df.rename(columns={'date':'maintenance_date','time':'maintenance_time'})\n",
        "\n",
        "# Drop the id column for the maintenance_df\n",
        "maintenance_df.drop(['id'], axis=1, inplace=True)"
      ],
      "metadata": {
        "id": "R-XDTS0B1KvF"
      },
      "execution_count": 52,
      "outputs": []
    },
    {
      "cell_type": "markdown",
      "source": [
        "### Merging the Datasets"
      ],
      "metadata": {
        "id": "2Gj4GMeFU5-H"
      }
    },
    {
      "cell_type": "code",
      "source": [
        "# Merge equipment and network sensor dataframes\n",
        "#sensor_readings_df = pd.merge(left=equipment_df, right=network_df, how='left', left_on=['id','date','time'], right_on= ['id','date','time'])\n",
        "sensor_readings_df = equipment_df.merge(network_df, how='left', left_on=['id','sensor_date_time'], right_on= ['id','sensor_date_time'])\n",
        "\n",
        "#sensor_readings_df\n",
        "final_merged_df = pd.merge(left=sensor_readings_df, right=maintenance_df, how='left', left_on=['id'], right_on= ['equipment_id'])\n",
        "\n",
        "# Drop the equipment_id column for the final_merged dataframe\n",
        "final_merged_df.drop(['equipment_id'], axis=1, inplace=True)\n",
        "# Rename id column to equipment_id\n",
        "final_merged_df=final_merged_df.rename(columns={'id':'equipment_id'})\n",
        "final_merged_df = final_merged_df[['equipment_id','sensor_date_time','equipment_sensor_reading','network_sensor_reading','maintenance_date_time','maintenance_type']]\n",
        "\n",
        "final_merged_df"
      ],
      "metadata": {
        "colab": {
          "base_uri": "https://localhost:8080/",
          "height": 332
        },
        "id": "tK7fwG4QO73K",
        "outputId": "d9186d36-6c65-4f47-f4fb-98bf6ddbe8e1"
      },
      "execution_count": 53,
      "outputs": [
        {
          "output_type": "execute_result",
          "data": {
            "text/plain": [
              "   equipment_id     sensor_date_time  equipment_sensor_reading  \\\n",
              "0             1  2022-03-01 08:00:00                      26.7   \n",
              "1             1  2022-03-01 08:00:00                      26.7   \n",
              "2             1  2022-03-01 08:15:00                      28.4   \n",
              "3             1  2022-03-01 08:15:00                      28.4   \n",
              "4             1  2022-03-01 08:30:00                      27.8   \n",
              "5             1  2022-03-01 08:30:00                      27.8   \n",
              "6             2  2022-03-01 08:00:00                      99.1   \n",
              "7             2  2022-03-01 08:15:00                      97.5   \n",
              "8             2  2022-03-01 08:30:00                      98.2   \n",
              "\n",
              "   network_sensor_reading maintenance_date_time        maintenance_type  \n",
              "0                    0.58   2022-03-01 10:00:00  Preventive Maintenance  \n",
              "1                    0.58   2022-03-03 08:00:00  Corrective Maintenance  \n",
              "2                    0.62   2022-03-01 10:00:00  Preventive Maintenance  \n",
              "3                    0.62   2022-03-03 08:00:00  Corrective Maintenance  \n",
              "4                    0.60   2022-03-01 10:00:00  Preventive Maintenance  \n",
              "5                    0.60   2022-03-03 08:00:00  Corrective Maintenance  \n",
              "6                    0.89   2022-03-02 14:30:00  Corrective Maintenance  \n",
              "7                    0.85   2022-03-02 14:30:00  Corrective Maintenance  \n",
              "8                    0.88   2022-03-02 14:30:00  Corrective Maintenance  "
            ],
            "text/html": [
              "\n",
              "  <div id=\"df-aae141e6-3a51-4b50-b8e6-358eaf29e56d\">\n",
              "    <div class=\"colab-df-container\">\n",
              "      <div>\n",
              "<style scoped>\n",
              "    .dataframe tbody tr th:only-of-type {\n",
              "        vertical-align: middle;\n",
              "    }\n",
              "\n",
              "    .dataframe tbody tr th {\n",
              "        vertical-align: top;\n",
              "    }\n",
              "\n",
              "    .dataframe thead th {\n",
              "        text-align: right;\n",
              "    }\n",
              "</style>\n",
              "<table border=\"1\" class=\"dataframe\">\n",
              "  <thead>\n",
              "    <tr style=\"text-align: right;\">\n",
              "      <th></th>\n",
              "      <th>equipment_id</th>\n",
              "      <th>sensor_date_time</th>\n",
              "      <th>equipment_sensor_reading</th>\n",
              "      <th>network_sensor_reading</th>\n",
              "      <th>maintenance_date_time</th>\n",
              "      <th>maintenance_type</th>\n",
              "    </tr>\n",
              "  </thead>\n",
              "  <tbody>\n",
              "    <tr>\n",
              "      <th>0</th>\n",
              "      <td>1</td>\n",
              "      <td>2022-03-01 08:00:00</td>\n",
              "      <td>26.7</td>\n",
              "      <td>0.58</td>\n",
              "      <td>2022-03-01 10:00:00</td>\n",
              "      <td>Preventive Maintenance</td>\n",
              "    </tr>\n",
              "    <tr>\n",
              "      <th>1</th>\n",
              "      <td>1</td>\n",
              "      <td>2022-03-01 08:00:00</td>\n",
              "      <td>26.7</td>\n",
              "      <td>0.58</td>\n",
              "      <td>2022-03-03 08:00:00</td>\n",
              "      <td>Corrective Maintenance</td>\n",
              "    </tr>\n",
              "    <tr>\n",
              "      <th>2</th>\n",
              "      <td>1</td>\n",
              "      <td>2022-03-01 08:15:00</td>\n",
              "      <td>28.4</td>\n",
              "      <td>0.62</td>\n",
              "      <td>2022-03-01 10:00:00</td>\n",
              "      <td>Preventive Maintenance</td>\n",
              "    </tr>\n",
              "    <tr>\n",
              "      <th>3</th>\n",
              "      <td>1</td>\n",
              "      <td>2022-03-01 08:15:00</td>\n",
              "      <td>28.4</td>\n",
              "      <td>0.62</td>\n",
              "      <td>2022-03-03 08:00:00</td>\n",
              "      <td>Corrective Maintenance</td>\n",
              "    </tr>\n",
              "    <tr>\n",
              "      <th>4</th>\n",
              "      <td>1</td>\n",
              "      <td>2022-03-01 08:30:00</td>\n",
              "      <td>27.8</td>\n",
              "      <td>0.60</td>\n",
              "      <td>2022-03-01 10:00:00</td>\n",
              "      <td>Preventive Maintenance</td>\n",
              "    </tr>\n",
              "    <tr>\n",
              "      <th>5</th>\n",
              "      <td>1</td>\n",
              "      <td>2022-03-01 08:30:00</td>\n",
              "      <td>27.8</td>\n",
              "      <td>0.60</td>\n",
              "      <td>2022-03-03 08:00:00</td>\n",
              "      <td>Corrective Maintenance</td>\n",
              "    </tr>\n",
              "    <tr>\n",
              "      <th>6</th>\n",
              "      <td>2</td>\n",
              "      <td>2022-03-01 08:00:00</td>\n",
              "      <td>99.1</td>\n",
              "      <td>0.89</td>\n",
              "      <td>2022-03-02 14:30:00</td>\n",
              "      <td>Corrective Maintenance</td>\n",
              "    </tr>\n",
              "    <tr>\n",
              "      <th>7</th>\n",
              "      <td>2</td>\n",
              "      <td>2022-03-01 08:15:00</td>\n",
              "      <td>97.5</td>\n",
              "      <td>0.85</td>\n",
              "      <td>2022-03-02 14:30:00</td>\n",
              "      <td>Corrective Maintenance</td>\n",
              "    </tr>\n",
              "    <tr>\n",
              "      <th>8</th>\n",
              "      <td>2</td>\n",
              "      <td>2022-03-01 08:30:00</td>\n",
              "      <td>98.2</td>\n",
              "      <td>0.88</td>\n",
              "      <td>2022-03-02 14:30:00</td>\n",
              "      <td>Corrective Maintenance</td>\n",
              "    </tr>\n",
              "  </tbody>\n",
              "</table>\n",
              "</div>\n",
              "      <button class=\"colab-df-convert\" onclick=\"convertToInteractive('df-aae141e6-3a51-4b50-b8e6-358eaf29e56d')\"\n",
              "              title=\"Convert this dataframe to an interactive table.\"\n",
              "              style=\"display:none;\">\n",
              "        \n",
              "  <svg xmlns=\"http://www.w3.org/2000/svg\" height=\"24px\"viewBox=\"0 0 24 24\"\n",
              "       width=\"24px\">\n",
              "    <path d=\"M0 0h24v24H0V0z\" fill=\"none\"/>\n",
              "    <path d=\"M18.56 5.44l.94 2.06.94-2.06 2.06-.94-2.06-.94-.94-2.06-.94 2.06-2.06.94zm-11 1L8.5 8.5l.94-2.06 2.06-.94-2.06-.94L8.5 2.5l-.94 2.06-2.06.94zm10 10l.94 2.06.94-2.06 2.06-.94-2.06-.94-.94-2.06-.94 2.06-2.06.94z\"/><path d=\"M17.41 7.96l-1.37-1.37c-.4-.4-.92-.59-1.43-.59-.52 0-1.04.2-1.43.59L10.3 9.45l-7.72 7.72c-.78.78-.78 2.05 0 2.83L4 21.41c.39.39.9.59 1.41.59.51 0 1.02-.2 1.41-.59l7.78-7.78 2.81-2.81c.8-.78.8-2.07 0-2.86zM5.41 20L4 18.59l7.72-7.72 1.47 1.35L5.41 20z\"/>\n",
              "  </svg>\n",
              "      </button>\n",
              "      \n",
              "  <style>\n",
              "    .colab-df-container {\n",
              "      display:flex;\n",
              "      flex-wrap:wrap;\n",
              "      gap: 12px;\n",
              "    }\n",
              "\n",
              "    .colab-df-convert {\n",
              "      background-color: #E8F0FE;\n",
              "      border: none;\n",
              "      border-radius: 50%;\n",
              "      cursor: pointer;\n",
              "      display: none;\n",
              "      fill: #1967D2;\n",
              "      height: 32px;\n",
              "      padding: 0 0 0 0;\n",
              "      width: 32px;\n",
              "    }\n",
              "\n",
              "    .colab-df-convert:hover {\n",
              "      background-color: #E2EBFA;\n",
              "      box-shadow: 0px 1px 2px rgba(60, 64, 67, 0.3), 0px 1px 3px 1px rgba(60, 64, 67, 0.15);\n",
              "      fill: #174EA6;\n",
              "    }\n",
              "\n",
              "    [theme=dark] .colab-df-convert {\n",
              "      background-color: #3B4455;\n",
              "      fill: #D2E3FC;\n",
              "    }\n",
              "\n",
              "    [theme=dark] .colab-df-convert:hover {\n",
              "      background-color: #434B5C;\n",
              "      box-shadow: 0px 1px 3px 1px rgba(0, 0, 0, 0.15);\n",
              "      filter: drop-shadow(0px 1px 2px rgba(0, 0, 0, 0.3));\n",
              "      fill: #FFFFFF;\n",
              "    }\n",
              "  </style>\n",
              "\n",
              "      <script>\n",
              "        const buttonEl =\n",
              "          document.querySelector('#df-aae141e6-3a51-4b50-b8e6-358eaf29e56d button.colab-df-convert');\n",
              "        buttonEl.style.display =\n",
              "          google.colab.kernel.accessAllowed ? 'block' : 'none';\n",
              "\n",
              "        async function convertToInteractive(key) {\n",
              "          const element = document.querySelector('#df-aae141e6-3a51-4b50-b8e6-358eaf29e56d');\n",
              "          const dataTable =\n",
              "            await google.colab.kernel.invokeFunction('convertToInteractive',\n",
              "                                                     [key], {});\n",
              "          if (!dataTable) return;\n",
              "\n",
              "          const docLinkHtml = 'Like what you see? Visit the ' +\n",
              "            '<a target=\"_blank\" href=https://colab.research.google.com/notebooks/data_table.ipynb>data table notebook</a>'\n",
              "            + ' to learn more about interactive tables.';\n",
              "          element.innerHTML = '';\n",
              "          dataTable['output_type'] = 'display_data';\n",
              "          await google.colab.output.renderOutput(dataTable, element);\n",
              "          const docLink = document.createElement('div');\n",
              "          docLink.innerHTML = docLinkHtml;\n",
              "          element.appendChild(docLink);\n",
              "        }\n",
              "      </script>\n",
              "    </div>\n",
              "  </div>\n",
              "  "
            ]
          },
          "metadata": {},
          "execution_count": 53
        }
      ]
    },
    {
      "cell_type": "markdown",
      "metadata": {
        "id": "mxCkESI_ZA5A"
      },
      "source": [
        "## 4. Data Loading"
      ]
    },
    {
      "cell_type": "markdown",
      "metadata": {
        "id": "iDnNGL-mZhJ9"
      },
      "source": [
        "### Load the merged dataframe to Postgres DB"
      ]
    },
    {
      "cell_type": "code",
      "metadata": {
        "id": "JB7Sd98YZhKw",
        "colab": {
          "base_uri": "https://localhost:8080/"
        },
        "outputId": "00ca7f53-5590-4e70-b460-b9ab1eacb1c5"
      },
      "source": [
        "host=\"157.245.102.81\"\n",
        "port=5432 \n",
        "dbname=\"dq\"\n",
        "user=\"postgres\"\n",
        "password=\"E*3b8km$dpmRLLuf1Rs$\"\n",
        "\n",
        "# Establish connections\n",
        "conn_string = f\"postgresql://{user}:{password}@{host}/{dbname}\"\n",
        "db = create_engine(conn_string)\n",
        "conn = db.raw_connection()\n",
        "conn.autocommit = True\n",
        "\n",
        "# create a cursor object\n",
        "cur = conn.cursor()\n",
        "\n",
        "create_table_query = \"\"\"\n",
        "CREATE TABLE IF NOT EXISTS sensor_data (\n",
        "    id SERIAL PRIMARY KEY,\n",
        "    equipment_id VARCHAR(64),\n",
        "    sensor_date_time TIMESTAMP,\n",
        "    equipment_sensor_reading NUMERIC(10,4),\n",
        "    network_sensor_reading NUMERIC(10,4),\n",
        "    maintenance_date_time TIMESTAMP,\n",
        "    maintenance_type VARCHAR(255)\n",
        ");\n",
        "\"\"\"\n",
        "\n",
        "try:\n",
        "  cur.execute(create_table_query)\n",
        "  conn.commit()\n",
        "except:\n",
        "  print(\"Table Creation failed!\")\n",
        "finally:\n",
        "  final_merged_df.to_sql('sensor_data', db, if_exists='append', index=False)\n",
        "  cur.execute(\"SELECT * from sensor_data\")\n",
        "  print(cur.fetchone())\n",
        "  # cur.execute('Drop table sensor_data')\n",
        "  cur.close()\n",
        "  conn.close()"
      ],
      "execution_count": 54,
      "outputs": [
        {
          "output_type": "stream",
          "name": "stdout",
          "text": [
            "(1, '1', datetime.datetime(2022, 3, 1, 8, 0), Decimal('26.7000'), Decimal('0.5800'), datetime.datetime(2022, 3, 1, 10, 0), 'Preventive Maintenance')\n"
          ]
        }
      ]
    }
  ]
}